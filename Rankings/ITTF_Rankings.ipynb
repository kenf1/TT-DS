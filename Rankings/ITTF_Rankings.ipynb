{
  "cells": [
    {
      "cell_type": "raw",
      "metadata": {},
      "source": [
        "---\n",
        "title: \"ITTF Rankings Scraper\"\n",
        "author: \"KF\"\n",
        "format: \n",
        "    html:\n",
        "        code-fold: true\n",
        "        code-tools: true\n",
        "execute: \n",
        "  echo: true\n",
        "---"
      ],
      "id": "788eaf85"
    },
    {
      "cell_type": "markdown",
      "metadata": {},
      "source": [
        "## Background\n",
        "\n",
        "This script was written as a continuation of the [ITTF Rankings 2001-2020 data analysis and visualization project](https://github.com/kenf1/Kaggle_ITTF). Instead of having the data readily available in .csv format, I took on the task of collecting the data myself by web scraping the [ITTF rankings](https://www.ittf.com/rankings/) website.\n",
        "\n",
        "## Scrape Data from ITTF Website\n",
        "\n",
        "These code chunks scrapes data from the ITTF Rankings website and saves it locally as a Pandas dataframe.\n"
      ],
      "id": "d9938d63"
    },
    {
      "cell_type": "code",
      "metadata": {},
      "source": [
        "#for web scraping\n",
        "import requests\n",
        "from bs4 import BeautifulSoup\n",
        "\n",
        "#modify/tidy scraped data\n",
        "import pandas as pd\n",
        "import numpy as np\n",
        "\n",
        "#create figures\n",
        "import plotly.express as px\n",
        "\n",
        "#misc\n",
        "# import datetime\n",
        "import re"
      ],
      "id": "a60cefe0",
      "execution_count": null,
      "outputs": []
    },
    {
      "cell_type": "code",
      "metadata": {},
      "source": [
        "#setup\n",
        "URL = \"https://www.ittf.com/wp-content/uploads/2022/05/2022_19_SEN_MS.html\"\n",
        "soup = BeautifulSoup(requests.get(URL).content,\"html.parser\")\n",
        "\n",
        "#scrape data\n",
        "results = soup.find(id=\"content\")\n",
        "\n",
        "#show results\n",
        "# print(results.prettify())"
      ],
      "id": "90ae0166",
      "execution_count": null,
      "outputs": []
    },
    {
      "cell_type": "code",
      "metadata": {},
      "source": [
        "#get dataset title\n",
        "rankingType = results.find(\"td\",class_=\"listdataleft\").text.strip()\n",
        "\n",
        "#extract year\n",
        "# datasetYear = str(re.findall(\"\\\\d{4}\",rankingType))\n",
        "datasetYear = re.sub(r\"[^a-zA-Z0-9]\",\"\",str(re.findall(\"\\\\d{4}\",rankingType)))\n",
        "\n",
        "#extract event & week\n",
        "competition = re.split(\"\\\\d{4}\",rankingType)\n",
        "\n",
        "#event\n",
        "datasetEvent = competition[0]\n",
        "\n",
        "#week\n",
        "datasetWeek = competition[1]\n",
        "\n",
        "#store results of colNames (html table)\n",
        "headers_list = []\n",
        "\n",
        "for i in results.find_all(\"tr\",class_=\"tablehead\"):\n",
        "    title = i.text.strip()\n",
        "    headers_list.append(title)\n",
        "\n",
        "#rm new lines\n",
        "headers = headers_list[0].split(\"\\n\")\n",
        "\n",
        "#convert list to string + tidy\n",
        "new_header = \",\".join(headers).replace(\"'\",\"\").split(\" \")"
      ],
      "id": "5d527185",
      "execution_count": null,
      "outputs": []
    },
    {
      "cell_type": "code",
      "metadata": {},
      "source": [
        "#create df to store results\n",
        "ittf_rank = pd.DataFrame(columns=new_header)\n",
        "\n",
        "#store results of html table\n",
        "results.find_all(\"tr\",class_='rrow')\n",
        "\n",
        "for j in results.find_all(\"tr\",class_=\"rrow\")[0:]:\n",
        "    row_data = j.find_all(\"td\")\n",
        "    ittf_rank.loc[len(ittf_rank)] = [tr.text for tr in row_data]"
      ],
      "id": "f088053f",
      "execution_count": null,
      "outputs": []
    },
    {
      "cell_type": "code",
      "metadata": {},
      "source": [
        "#split rank into number + change from previous rank\n",
        "def rankExtract(position):\n",
        "    temp = ittf_rank[\"Rank\"].str.split(\" \").str[position]\n",
        "    return temp\n",
        "\n",
        "ittf_rank[\"Rank Only\"] = rankExtract(0)\n",
        "ittf_rank[\"Rank Change\"] = rankExtract(1)\n",
        "\n",
        "#reorder cols + drop Rank (w/ ranking change)\n",
        "ittf_rank = ittf_rank[[\"Rank Only\",\"Rank Change\",\"Name\",\"Assoc\",\"Points\"]]\n",
        "\n",
        "#convert rank & points to numeric\n",
        "ittf_rank[[\"Rank Only\",\"Points\"]] = ittf_rank[[\"Rank Only\",\"Points\"]].astype(int)"
      ],
      "id": "b09d88a0",
      "execution_count": null,
      "outputs": []
    },
    {
      "cell_type": "code",
      "metadata": {},
      "source": [
        "#dataset full name\n",
        "fullName = datasetEvent+\" \"+datasetYear+datasetWeek\n",
        "\n",
        "#top n players (adjust if nec)\n",
        "top_n_players = ittf_rank[0:30]\n",
        "top_n_players_display = top_n_players.style.set_caption(fullName)\n",
        "\n",
        "#workaround for table title\n",
        "# print(datasetEvent+\" \"+datasetYear+datasetWeek)\n",
        "\n",
        "top_n_players_display"
      ],
      "id": "52ad5dc8",
      "execution_count": null,
      "outputs": []
    },
    {
      "cell_type": "markdown",
      "metadata": {},
      "source": [
        "### Save as csv file\n",
        "\n",
        "Because my plan to run this script periodically, I need to save the scraped results in a csv file with the full dataset title as the file name.\n"
      ],
      "id": "5748a960"
    },
    {
      "cell_type": "code",
      "metadata": {},
      "source": [
        "#create timestamp of date scrapper was ran\n",
        "# dfName = f'M_ITTF_{datetime.datetime.now().strftime(\"%m-%d-%Y\")}.csv'\n",
        "\n",
        "#save to csv\n",
        "ittf_rank.to_csv(f\"ITTF \"+fullName+\".csv\",index=False)"
      ],
      "id": "bea6a653",
      "execution_count": null,
      "outputs": []
    },
    {
      "cell_type": "markdown",
      "metadata": {},
      "source": [
        "## Create Figures\n"
      ],
      "id": "833afd6b"
    },
    {
      "cell_type": "code",
      "metadata": {},
      "source": [
        "#repeated title/subtitle components\n",
        "titleRepeat = \" (Top \"+str(len(top_n_players))+\" Players)\"+\"<br><sup>\"+fullName+\"</sup></br>\"\n",
        "\n",
        "#num players per assoc\n",
        "fig1 = px.pie(top_n_players,\"Assoc\",title=\"Association Breakdown\"+titleRepeat)\n",
        "fig1.show()"
      ],
      "id": "cb6643d7",
      "execution_count": null,
      "outputs": []
    },
    {
      "cell_type": "code",
      "metadata": {},
      "source": [
        "#country + total points for top ranked players\n",
        "fig = px.bar(top_n_players,x=\"Points\",y=\"Name\",color=\"Assoc\",title=\"Number of Points\"+titleRepeat)\n",
        "fig.update_layout(yaxis={'categoryorder':'total ascending'})"
      ],
      "id": "338931e1",
      "execution_count": null,
      "outputs": []
    },
    {
      "cell_type": "markdown",
      "metadata": {},
      "source": [
        "## Acknowledgments\n",
        "\n",
        "1. RealPython [BeautifulSoup Tutorial](https://realpython.com/beautiful-soup-web-scraper-python/)\n",
        "\n",
        "1. GitHub user [txx4986's](https://github.com/txx4986) [framework/working example](https://github.com/txx4986/Web-scraping-ITTF-rankings)"
      ],
      "id": "4de76818"
    }
  ],
  "metadata": {
    "kernelspec": {
      "display_name": "Python 3",
      "language": "python",
      "name": "python3"
    }
  },
  "nbformat": 4,
  "nbformat_minor": 5
}